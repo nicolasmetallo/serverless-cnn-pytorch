{
  "nbformat": 4,
  "nbformat_minor": 0,
  "metadata": {
    "colab": {
      "name": "train_deploy_pytorch_serverless",
      "version": "0.3.2",
      "provenance": [],
      "collapsed_sections": [],
      "toc_visible": true,
      "include_colab_link": true
    },
    "kernelspec": {
      "name": "python3",
      "display_name": "Python 3"
    },
    "accelerator": "GPU"
  },
  "cells": [
    {
      "cell_type": "markdown",
      "metadata": {
        "id": "view-in-github",
        "colab_type": "text"
      },
      "source": [
        "<a href=\"https://colab.research.google.com/github/nicolasmetallo/serverless-cnn-pytorch/blob/master/train_deploy_pytorch_serverless.ipynb\" target=\"_parent\"><img src=\"https://colab.research.google.com/assets/colab-badge.svg\" alt=\"Open In Colab\"/></a>"
      ]
    },
    {
      "cell_type": "markdown",
      "metadata": {
        "id": "f5MjiFeh76_6",
        "colab_type": "text"
      },
      "source": [
        "# Train CNN with PyTorch + Fastai and deploy on AWS Lambda\n",
        "---"
      ]
    },
    {
      "cell_type": "markdown",
      "metadata": {
        "id": "56AY-LHS79kH",
        "colab_type": "text"
      },
      "source": [
        "## Import libraries"
      ]
    },
    {
      "cell_type": "code",
      "metadata": {
        "id": "q1wIilrU7uql",
        "colab_type": "code",
        "colab": {}
      },
      "source": [
        "import os\n",
        "import io\n",
        "import PIL\n",
        "import sys\n",
        "import tarfile\n",
        "import time\n",
        "import shutil\n",
        "from datetime import datetime\n",
        "\n",
        "# quick fix if you installed torch on a Mac: https://github.com/pytorch/pytorch/issues/20030\n",
        "from fastai.vision import *\n",
        "from fastai.callbacks import *\n",
        "from fastai.widgets import *"
      ],
      "execution_count": 0,
      "outputs": []
    },
    {
      "cell_type": "markdown",
      "metadata": {
        "id": "HxTJ68mQL8M6",
        "colab_type": "text"
      },
      "source": [
        "## Create Dataset"
      ]
    },
    {
      "cell_type": "markdown",
      "metadata": {
        "id": "pOiZg-v18Bgf",
        "colab_type": "text"
      },
      "source": [
        "### Download Images from Google for Class \"A\""
      ]
    },
    {
      "cell_type": "code",
      "metadata": {
        "id": "J6Hv7WJhfhCh",
        "colab_type": "code",
        "outputId": "5fe3e4dd-6511-44b0-f875-6a9c615071c5",
        "colab": {
          "base_uri": "https://localhost:8080/",
          "height": 241
        }
      },
      "source": [
        "%%shell\n",
        "pip install google_images_download"
      ],
      "execution_count": 0,
      "outputs": [
        {
          "output_type": "stream",
          "text": [
            "Collecting google_images_download\n",
            "  Downloading https://files.pythonhosted.org/packages/18/ed/0319d30c48f3653802da8e6dcfefcea6370157d10d566ef6807cceb5ec4d/google_images_download-2.8.0.tar.gz\n",
            "Collecting selenium (from google_images_download)\n",
            "\u001b[?25l  Downloading https://files.pythonhosted.org/packages/80/d6/4294f0b4bce4de0abf13e17190289f9d0613b0a44e5dd6a7f5ca98459853/selenium-3.141.0-py2.py3-none-any.whl (904kB)\n",
            "\u001b[K     |████████████████████████████████| 911kB 12.8MB/s \n",
            "\u001b[?25hRequirement already satisfied: urllib3 in /usr/local/lib/python3.6/dist-packages (from selenium->google_images_download) (1.24.3)\n",
            "Building wheels for collected packages: google-images-download\n",
            "  Building wheel for google-images-download (setup.py) ... \u001b[?25l\u001b[?25hdone\n",
            "  Stored in directory: /root/.cache/pip/wheels/1f/28/ad/f56e7061e1d2a9a1affe2f9c649c2570cb9198dd24ede0bbab\n",
            "Successfully built google-images-download\n",
            "Installing collected packages: selenium, google-images-download\n",
            "Successfully installed google-images-download-2.8.0 selenium-3.141.0\n"
          ],
          "name": "stdout"
        },
        {
          "output_type": "execute_result",
          "data": {
            "text/plain": [
              ""
            ]
          },
          "metadata": {
            "tags": []
          },
          "execution_count": 2
        }
      ]
    },
    {
      "cell_type": "code",
      "metadata": {
        "id": "ik6KiewAfdxb",
        "colab_type": "code",
        "outputId": "4ac1a3be-035b-4a61-e2a1-5f0eb411c995",
        "colab": {
          "base_uri": "https://localhost:8080/",
          "height": 5647
        }
      },
      "source": [
        "from google_images_download import google_images_download   # import library\n",
        "\n",
        "response = google_images_download.googleimagesdownload()   # init the class\n",
        "arguments = {\n",
        "    \"keywords\":\"Macri, Mauricio Macri, Presidente Macri\",\n",
        "    \"limit\":100,\n",
        "    \"print_urls\":False}   # don't print any URL\n",
        "paths = response.download(arguments)   # pass args"
      ],
      "execution_count": 0,
      "outputs": [
        {
          "output_type": "stream",
          "text": [
            "\n",
            "Item no.: 1 --> Item name = Macri\n",
            "Evaluating...\n",
            "Starting Download...\n",
            "Completed Image ====> 1.220px-Presidente_Macri_en_el_Sillon_de_Rivadavia_%28cropped%29.jpg\n",
            "Invalid or missing image format. Skipping...\n",
            "Completed Image ====> 2.macri_1_crop1551468266549_crop1553221662421_crop1553556581334.jpg\n",
            "Completed Image ====> 3.0036152039.jpg\n",
            "Completed Image ====> 4.macri.jpg\n",
            "Completed Image ====> 5.macri_joe_profile.jpg\n",
            "Completed Image ====> 6.880x495_427907.jpg\n",
            "Completed Image ====> 7.mauricio-macri-2017-gettyimages-631903252.jpg\n",
            "Completed Image ====> 8.macri2_crop1550860057016.jpg\n",
            "Completed Image ====> 9.time-100-mauricio-macri.jpg\n",
            "Completed Image ====> 10.107cecc4e541bf7391680e7351cd942c20af8a9b_1.jpg\n",
            "Completed Image ====> 11.macri-announces-that-argentina-is-committed-to-international-security-by-broadening-defence-cooperation-with-india.jpg\n",
            "Completed Image ====> 12.Mochkofsky-Whats-Next-Mauricio-Macri.jpg\n",
            "Completed Image ====> 13.k46FokV_8_930x525__1.jpg\n",
            "Completed Image ====> 14.mauricio-mauri-president-argentina-g20-imf.jpg\n",
            "Completed Image ====> 15.Merci.jpg\n",
            "Completed Image ====> 16.1000x-1.jpg\n",
            "Completed Image ====> 17.38f90abdc2a849cac710507d6f03187cd650e0e5.jpg\n",
            "Completed Image ====> 18.mauricio-macri.jpg\n",
            "Completed Image ====> 19.ddb72aed8ba2ac4fc040db1f6a38d2d258f9c271.jpg\n",
            "Invalid or missing image format. Skipping...\n",
            "Completed Image ====> 20.170427_president_macri_2.jpg\n",
            "Invalid or missing image format. Skipping...\n",
            "Invalid or missing image format. Skipping...\n",
            "Invalid or missing image format. Skipping...\n",
            "Completed Image ====> 21.Argentina_G20_Summit_04755.jpg\n",
            "Completed Image ====> 22.1487876091_370254_1487876846_noticia_normal.jpg\n",
            "Completed Image ====> 23.mauriciomacri.jpg\n",
            "Invalid or missing image format. Skipping...\n",
            "Invalid or missing image format. Skipping...\n",
            "Completed Image ====> 24.467251_landscape.jpg\n",
            "Invalid or missing image format. Skipping...\n",
            "Completed Image ====> 25.Experiencia-ENDEAVOR-MAURICIO-MACRI.jpg\n",
            "Completed Image ====> 26._87145334_87145332.jpg\n",
            "Completed Image ====> 27.1000x-1.jpg\n",
            "Completed Image ====> 28.499969934.jpg\n",
            "Completed Image ====> 29.gettyimages-604208408.jpg\n",
            "Invalid or missing image format. Skipping...\n",
            "Completed Image ====> 30.20190420_blp905.jpg\n",
            "Completed Image ====> 31.1555683475548.jpg\n",
            "Invalid or missing image format. Skipping...\n",
            "Completed Image ====> 32.220px-Mauricio_Macri_Foto_de_Prensa.jpg\n",
            "Invalid or missing image format. Skipping...\n",
            "Completed Image ====> 33.ahiJVq1nADVPUe4pd3Lr4HT4Ox7j8wWp.jpg\n",
            "Completed Image ====> 34.macri2.jpg\n",
            "Completed Image ====> 35.1543260104-00019i9m6.jpg\n",
            "Completed Image ====> 36.0036246200.jpg\n",
            "Completed Image ====> 37.buenos-aires-argentina-21st-jan-2019-argentinian-president-mauricio-macri-delivers-a-press-conference-during-an-act-at-the-casa-rosada-in-buenos-aries-argentina-21-january-2019-macri-announced-the-signing-of-a-decree-so-that-the-state-recovers-money-and-other-assets-linked-to-corruption-and-other-drug-trafficking-crimes-credit-juan-ignacio-roncoroniefealamy-live-news-REG2KN.jpg\n",
            "Completed Image ====> 38.ContentBroker_contentid-1b5a03ca05e64b89ac845bac18ca3766.png\n",
            "Completed Image ====> 39.1-macri-argentina.jpg\n",
            "Completed Image ====> 40.2470a758a7ce4a6a8d046bd3809b1218_18.jpg\n",
            "Completed Image ====> 41.mauricio-macri.jpg\n",
            "Completed Image ====> 42.Mauricio-Marci.jpg\n",
            "Completed Image ====> 43.mauricio-macri-368209.jpg\n",
            "Completed Image ====> 44.1802153_1.jpg\n",
            "Completed Image ====> 45.macri-economy.jpg\n",
            "Completed Image ====> 46.Maurico-Macri-Macri-news-Argentina-IMF-938x450.jpg\n",
            "Completed Image ====> 47.1000x-1.jpg\n",
            "Completed Image ====> 48.1HY9RCH_003_lt.jpg\n",
            "Completed Image ====> 49.mauriciomacri_crop1551397964445_crop1556213191671_crop1556225548552_crop1557111524465_crop1557172229073.jpg\n",
            "Completed Image ====> 50.45376766_303.jpg\n",
            "Completed Image ====> 51.Macri_recibe_atributos_del_mando_en_Casa_Rosada.jpg\n",
            "Completed Image ====> 52.GettyImages-1075596574.jpg\n",
            "Completed Image ====> 53.13705834.jpg\n",
            "Completed Image ====> 54.8d12593d9c5d437c967981373d613256_18.jpg\n",
            "Completed Image ====> 55.macri_ok.jpg\n",
            "Completed Image ====> 56.macri.jpg\n",
            "Completed Image ====> 57.mauricio-macri.jpg\n",
            "Completed Image ====> 58.macri-3-1.jpg\n",
            "Invalid or missing image format. Skipping...\n",
            "Completed Image ====> 59.104962197-macritrump.jpg\n",
            "Completed Image ====> 60.20180103-macri-file.jpg\n",
            "Invalid or missing image format. Skipping...\n",
            "Invalid or missing image format. Skipping...\n",
            "Completed Image ====> 61.mauricio-macri.jpg\n",
            "Invalid or missing image format. Skipping...\n",
            "Completed Image ====> 62.27c85947-c618-4c67-8393-0dc3e36bc5b0.jpg\n",
            "Completed Image ====> 63.1000x-1.jpg\n",
            "Completed Image ====> 64.151210Macri01.jpg\n",
            "Invalid or missing image format. Skipping...\n",
            "Completed Image ====> 65.Chile_Prosur_Summit9_c0-0-2769-1614_s885x516.jpg\n",
            "Completed Image ====> 66.mauricio-macri-759.jpg\n",
            "Invalid or missing image format. Skipping...\n",
            "Completed Image ====> 67.Macri_challenge.jpg\n",
            "Completed Image ====> 68.2420.jpg\n",
            "Invalid or missing image format. Skipping...\n",
            "Completed Image ====> 69.1031542574.jpg\n",
            "Completed Image ====> 70.20190504_AMP502.jpg\n",
            "Invalid or missing image format. Skipping...\n",
            "Completed Image ====> 71.methode%2Fsundaytimes%2Fprod%2Fweb%2Fbin%2F686093d6-c95a-11e8-bbdf-fe8589823fc3.jpg\n",
            "Completed Image ====> 72.190517001137-aliados-dudan-macri-candidato-presidencial-argentina-pkg-ignacio-grimaldi-perspectivas-buenos-aires-00003003-full-169.jpg\n",
            "Completed Image ====> 73.2730EB7C-543B-4799-92EF-32F4076F2870_w408_r1_s.jpg\n",
            "Completed Image ====> 74.18208_macri_5_crop1555336883758.jpg\n",
            "Completed Image ====> 75.internacionales-presidente-argentino-mauricio-macri-resolvio-eliminar-13-ministerios-n336940-764x480-501103.png\n",
            "Invalid or missing image format. Skipping...\n",
            "Completed Image ====> 76.Macri_Cam_2019_68.jpg\n",
            "Completed Image ====> 77.187239-004-686EAE4C.jpg\n",
            "Completed Image ====> 78.macri-ok_1.jpg\n",
            "Completed Image ====> 79.20190403_Argentina-Macri-is-preparing-for-a-second-term.jpg\n",
            "Completed Image ====> 80.mauricio-macri.jpg\n",
            "\n",
            "\n",
            "Unfortunately all 100 could not be downloaded because some images were not downloadable. 80 is all we got for this search filter!\n",
            "\n",
            "Errors: 20\n",
            "\n",
            "\n",
            "Item no.: 2 --> Item name =  Mauricio Macri\n",
            "Evaluating...\n",
            "Starting Download...\n",
            "Completed Image ====> 1.220px-Mauricio_Macri_2016.jpg\n",
            "Completed Image ====> 2.220px-Presidente_Macri_en_el_Sillon_de_Rivadavia_%28cropped%29.jpg\n",
            "Completed Image ====> 3.time-100-mauricio-macri.jpg\n",
            "Completed Image ====> 4.macri-announces-that-argentina-is-committed-to-international-security-by-broadening-defence-cooperation-with-india.jpg\n",
            "Completed Image ====> 5.SJG09uGpf_1256x620__1.jpg\n",
            "Completed Image ====> 6.Mauricio-Macri-1-5ea1p7th5sa0.jpg\n",
            "Completed Image ====> 7.FEpo63Plt_930x525__1.jpg\n",
            "Completed Image ====> 8.476068_landscape.jpg\n",
            "Completed Image ====> 9.20190301145950_36662145_0_body.jpg\n",
            "Invalid or missing image format. Skipping...\n",
            "Completed Image ====> 10.476221_landscape.jpg\n",
            "Completed Image ====> 11.macri.jpg\n",
            "Completed Image ====> 12.ryOac6a1m_1256x620__1.jpg\n",
            "Completed Image ====> 13.macri.jpg\n",
            "Completed Image ====> 14.880x495_427907.jpg\n",
            "Completed Image ====> 15.macri_1_crop1551468266549_crop1553221662421_crop1553556581334.jpg\n",
            "Completed Image ====> 16.macri_portada.jpg\n",
            "Completed Image ====> 17.0vAKSiRoy_1256x620__1.jpg\n",
            "Completed Image ====> 18.mauricio-macri-preocupado.jpg\n",
            "Completed Image ====> 19.mauricio-mauri-president-argentina-g20-imf.jpg\n",
            "Completed Image ====> 20.5c8f91f308f3d953168b456a.jpg\n",
            "Completed Image ====> 21.0036184081.jpg\n",
            "Completed Image ====> 22.1487876091_370254_1487876846_noticia_normal.jpg\n",
            "Completed Image ====> 23.Experiencia-ENDEAVOR-MAURICIO-MACRI.jpg\n",
            "Completed Image ====> 24.0036091459.jpg\n",
            "Completed Image ====> 25.buenos-aires-argentina-02nd-dec-2018-argentinian-president-mauricio-macri-unseen-and-chinese-president-xi-jinping-offer-a-press-conference-held-prior-to-their-bilateral-meeting-at-the-quinta-de-olivos-official-residence-in-buenos-aires-argentina-02-december-2018-jinping-is-on-a-state-visit-to-argentina-after-his-participation-in-the-g20-summit-credit-juan-ignacio-roncoroniefealamy-live-news-R5PH2A.jpg\n",
            "Completed Image ====> 26.Mochkofsky-Whats-Next-Mauricio-Macri.jpg\n",
            "Invalid or missing image format. Skipping...\n",
            "Completed Image ====> 27.0003449568.jpg\n",
            "Completed Image ====> 28.150px-Mauricio_Macri_%28cropped%29.jpg\n",
            "Completed Image ====> 29.presidente-encargado-de-Venezuela-juan-guaido-reunion-argentina-mauricio-macri.jpg\n",
            "Completed Image ====> 30.MJ9fF0eQT_930x525__1.jpg\n",
            "Completed Image ====> 31.Macri-Duran-Barba.png\n",
            "Completed Image ====> 32.AqjReujdk_1256x620__1.jpg\n",
            "Invalid or missing image format. Skipping...\n",
            "Completed Image ====> 33.499969934.jpg\n",
            "Completed Image ====> 34.mauricio-macri.jpg\n",
            "Completed Image ====> 35.220px-Mauricio_Macri_Foto_de_Prensa.jpg\n",
            "Completed Image ====> 36.1000x-1.jpg\n",
            "Completed Image ====> 37.Argentina_G20_Summit_04755.jpg\n",
            "Completed Image ====> 38.joxg8DZD.png\n",
            "Completed Image ====> 39.5ce0520254b4b.jpeg\n",
            "Invalid or missing image format. Skipping...\n",
            "Completed Image ====> 40.Mauricio-Macri-2.jpg\n",
            "Completed Image ====> 41.macri-video_1555521029.jpg\n",
            "Completed Image ====> 42.45376766_303.jpg\n",
            "Completed Image ====> 43.Inauguracion-Viaducto-Mitre-Mauricio-Macri-6.jpg\n",
            "Completed Image ====> 44.103772883-GettyImages-545065078.jpg\n",
            "Completed Image ====> 45.0005698713.jpg\n",
            "Completed Image ====> 46._103342522_gettyimages-959301880.jpg\n",
            "Completed Image ====> 47.mauricio_macri_afp.jpg\n",
            "Completed Image ====> 48.5c460fd491d58.jpeg\n",
            "Completed Image ====> 49.2018122110091886943.jpg\n",
            "Completed Image ====> 50.2420.jpg\n",
            "Completed Image ====> 51.15590166473593.jpg\n",
            "Completed Image ====> 52.2018-10-05t134005z_1156593139_rc144dd77f10_rtrmadp_3_olympics-forum.jpg\n",
            "Completed Image ====> 53.mauricio-macri-759.jpg\n",
            "Completed Image ====> 54.5938343565448.jpeg\n",
            "Completed Image ====> 55.1536430386_547971_1536431492_noticia_normal.jpg\n",
            "Completed Image ====> 56.415144.jpg\n",
            "Invalid or missing image format. Skipping...\n",
            "Completed Image ====> 57.1552614852387.jpg\n",
            "Completed Image ====> 58.mauricio-macri-se-hizo-un-chequeo-m%C3%A9dico-de-rutina.jpg\n",
            "Invalid or missing image format. Skipping...\n",
            "Completed Image ====> 59.2e1b6c8a2bfbc34e1cc4998a753bb4138f786a66.jpg\n",
            "Completed Image ====> 60.001-macri-ritondo.jpg\n",
            "Completed Image ====> 61.methode%2Fsundaytimes%2Fprod%2Fweb%2Fbin%2F686093d6-c95a-11e8-bbdf-fe8589823fc3.jpg\n",
            "Completed Image ====> 62.ContentBroker_contentid-1b5a03ca05e64b89ac845bac18ca3766.png\n",
            "Completed Image ====> 63.mauriciomacri.jpg\n",
            "Completed Image ====> 64.151210Macri01.jpg\n",
            "Completed Image ====> 65.02271091_xl.jpg\n",
            "Invalid or missing image format. Skipping...\n",
            "Completed Image ====> 66._91307254_37414102.jpg\n",
            "Invalid or missing image format. Skipping...\n",
            "Completed Image ====> 67.macri-aci-696x387.jpg\n",
            "Completed Image ====> 68.President-Mauricio-Macri.jpg\n",
            "Invalid or missing image format. Skipping...\n",
            "Completed Image ====> 69.gettyimages-604208408.jpg\n",
            "Completed Image ====> 70.5cd86cdbe1e83.jpeg\n",
            "Completed Image ====> 71.187239-004-686EAE4C.jpg\n",
            "Completed Image ====> 72.0005278000.jpg\n",
            "Completed Image ====> 73.1031542574.jpg\n",
            "Completed Image ====> 74.1000x-1.jpg\n",
            "Completed Image ====> 75.LyF6riTgRvNmxI8BIcmAcqqnriQxWgEw.jpg\n",
            "Completed Image ====> 76.b4bivrcQy_1256x620__1.jpg\n",
            "Completed Image ====> 77.Mauricio-macri-1-e1449751965299.jpg\n",
            "Completed Image ====> 78.Chile_Prosur_Summit9_c0-0-2769-1614_s885x516.jpg\n",
            "Completed Image ====> 79.Narendra_Modi.jpg\n",
            "Invalid or missing image format. Skipping...\n",
            "Completed Image ====> 80.macri-mauricio33.jpg\n",
            "Completed Image ====> 81.los_macri_1.jpg\n",
            "Completed Image ====> 82._103275739_048232244-1.jpg\n",
            "Completed Image ====> 83.1555683475548.jpg\n",
            "Completed Image ====> 84.1000x-1.jpg\n",
            "Completed Image ====> 85.Mauricio-Macri.jpg\n",
            "Completed Image ====> 86.20190502160717_37478438_0_body.jpg\n",
            "Completed Image ====> 87.20190504_AMP502.jpg\n",
            "Completed Image ====> 88.220px-Mauricio_Macri_Foto_de_Prensa2.jpg\n",
            "Completed Image ====> 89.Personajes-destacados-2018-Mauricio-Macri.jpg\n",
            "URLError on an image...trying next one... Error: <urlopen error [Errno 0] Error>\n",
            "\n",
            "\n",
            "Unfortunately all 100 could not be downloaded because some images were not downloadable. 89 is all we got for this search filter!\n",
            "\n",
            "Errors: 11\n",
            "\n",
            "\n",
            "Item no.: 3 --> Item name =  Presidente Macri\n",
            "Evaluating...\n",
            "Starting Download...\n",
            "Completed Image ====> 1.220px-Presidente_Macri_en_el_Sillon_de_Rivadavia_%28cropped%29.jpg\n",
            "Completed Image ====> 2.220px-Mauricio_Macri_2016.jpg\n",
            "Invalid or missing image format. Skipping...\n",
            "Completed Image ====> 3.image5a48478fae9f4.jpg\n",
            "Completed Image ====> 4.0005404844.jpg\n",
            "Completed Image ====> 5.200778w980.jpg\n",
            "Completed Image ====> 6.presidente_mauricio_macri_large.jpg\n",
            "Completed Image ====> 7.FEpo63Plt_930x525__1.jpg\n",
            "Completed Image ====> 8.8XoEpL1_N_1256x620__1.jpg\n",
            "Completed Image ====> 9.0005735491.jpg\n",
            "Completed Image ====> 10.77eaf22e06e5f8bd35bddd0adf9a5bf8-1000macri_mirada_vacio.jpg\n",
            "Completed Image ====> 11.445120.jpg\n",
            "Completed Image ====> 12.0vAKSiRoy_1256x620__1.jpg\n",
            "Completed Image ====> 13.1054696564.jpg\n",
            "Completed Image ====> 14.mauricio-macri-le-acepto-la-renuncia-al-ahora-exjuez-federal-oyarbide-0407-g1.jpg\n",
            "Completed Image ====> 15.macrimmm.jpg\n",
            "Completed Image ====> 16.Mauricio-Macri-nuevo-presidente-Argentina_LPRVID20151210_0002_56.jpg\n",
            "Completed Image ====> 17.79f47-mauricio-macri-mecenazgo.jpg\n",
            "Completed Image ====> 18.mauricio-macri.jpg\n",
            "Completed Image ====> 19.el-presidente-mauricio-macri-el___TohNcu3MZ_1256x620__1.jpg\n",
            "Completed Image ====> 20.macri_1_crop1551468266549_crop1553221662421_crop1553556581334.jpg\n",
            "Invalid or missing image format. Skipping...\n",
            "Completed Image ====> 21.Inauguracion-Viaducto-Mitre-Mauricio-Macri-6.jpg\n",
            "Completed Image ====> 22.220px-Mauricio_Macri_%26_Donald_Trump_at_the_White_House_05.jpg\n",
            "Completed Image ====> 23.macri-awada2.jpg\n",
            "Completed Image ====> 24.macri-3-12-18.png\n",
            "Completed Image ====> 25.macri-1.jpg\n",
            "Invalid or missing image format. Skipping...\n",
            "Completed Image ====> 26.Foto-1-151210170751_macri_banda_getty_624.gif\n",
            "Invalid or missing image format. Skipping...\n",
            "Completed Image ====> 27.Macri-Presidente.jpg\n",
            "Completed Image ====> 28.image5c292b54799df.jpg\n",
            "URLError on an image...trying next one... Error: <urlopen error [Errno 0] Error>\n",
            "Completed Image ====> 29.22204576_xl.jpg\n",
            "Completed Image ====> 30.Argentina-Mauricio_Macri-America_335228237_95738603_1024x576.jpg\n",
            "Completed Image ====> 31.macridecreto.jpg\n",
            "Completed Image ====> 32.internacionales-presidente-argentino-mauricio-macri-resolvio-eliminar-13-ministerios-n336940-764x480-501103.png\n",
            "Completed Image ====> 33.el-presidente-macri-este-lunes___iZRSgzfkG_1256x620__1.jpg\n",
            "Completed Image ====> 34.-mauricio-macri-.jpg\n",
            "Completed Image ====> 35.jair_bolsonaro_mauricio_macri_brasil_argentina.jpg\n",
            "Completed Image ====> 36.1555519168_220995_1555522140_noticia_normal.jpg\n",
            "Completed Image ====> 37.1552614852387.jpg\n",
            "Completed Image ====> 38.reunion-mauricio-macri-y-donald-trump-en-estados-unidos-1920_crop1537713737430.jpg\n",
            "Completed Image ====> 39.Mauricio-Macri.jpg\n",
            "Completed Image ====> 40.macri-mauricio-pro.jpg\n",
            "Completed Image ====> 41.franco_macri.jpg\n",
            "Completed Image ====> 42.Macri-6477rsgp9dk0.jpg\n",
            "Completed Image ====> 43.5c8f91f308f3d953168b456a.jpg\n",
            "Completed Image ====> 44.9080677514082047_1.jpg\n",
            "Completed Image ====> 45.5c6911905039a.jpeg\n",
            "URLError on an image...trying next one... Error: <urlopen error [SSL: CERTIFICATE_VERIFY_FAILED] certificate verify failed (_ssl.c:847)>\n",
            "Completed Image ====> 46.presidente-encargado-de-Venezuela-juan-guaido-reunion-argentina-mauricio-macri.jpg\n",
            "Completed Image ====> 47.1533579035_829297_1533580432_noticia_normal.jpg\n",
            "Completed Image ====> 48.El-presidente-Macri-hoy-en-el-Congreso-Nacional-1.jpg\n",
            "Completed Image ====> 49.larreta_macri_crop1556199154106.png\n",
            "Completed Image ====> 50.Personajes-destacados-2018-Mauricio-Macri.jpg\n",
            "Completed Image ====> 51.macron-y-macri.jpg\n",
            "Completed Image ====> 52.04075766_xl.jpg\n",
            "Completed Image ====> 53.macri-el-rajoy-argentino.jpg\n",
            "Completed Image ====> 54.macri1111.jpg\n",
            "Completed Image ====> 55.gettyimages-870955754-e1551642234768.jpg\n",
            "Completed Image ====> 56.mauricio-macri-casa-rosada-29012018-1920-2-1024x575.jpg\n",
            "Completed Image ====> 57.bas101-spain-royals-argenti_9525724_20190325215532.jpg\n",
            "Completed Image ====> 58.macri-mauricio33.jpg\n",
            "Completed Image ====> 59.macrischiaretti-1-.jpg\n",
            "Completed Image ====> 60.file_20190418010601.jpg\n",
            "Completed Image ====> 61.261764_1.jpg\n",
            "Completed Image ====> 62.20190513131350_37622471_0_body.jpg\n",
            "IOError on an image...trying next one... Error: The read operation timed out\n",
            "Completed Image ====> 63.1486410203_550869_1486410979_noticia_normal.jpg\n",
            "Completed Image ====> 64.time-100-mauricio-macri.jpg\n",
            "Completed Image ====> 65.157900.jpg\n",
            "Completed Image ====> 66._92810933_38189340.jpg\n",
            "URLError on an image...trying next one... Error: <urlopen error [SSL: CERTIFICATE_VERIFY_FAILED] certificate verify failed (_ssl.c:847)>\n",
            "Completed Image ====> 67.Mauricio-Macri-apertura-sesiones-ordinarias-congreso-2019-ML-1920-2.jpg\n",
            "Completed Image ====> 68.5ab29ed2977ce.jpeg\n",
            "Completed Image ====> 69.Macri-ajuste-Argentina.jpg\n",
            "Completed Image ====> 70.18382784_xl.jpg\n",
            "Completed Image ====> 71.el-presidente-mauricio-macri-esta-por-finalizar-su-gira-asiatica-643498.jpg\n",
            "Completed Image ====> 72.maxresdefault.jpg\n",
            "Completed Image ====> 73.macri_409_1.jpg\n",
            "Completed Image ====> 74.mauricio-macri.jpg\n",
            "Completed Image ====> 75.1086287467.jpg\n",
            "Completed Image ====> 76.591874bcc6d87_1004x565.jpg\n",
            "Completed Image ====> 77.1557157076_421316_1557157585_noticia_normal.jpg\n",
            "Completed Image ====> 78.maxresdefault.jpg\n",
            "Completed Image ====> 79.8319_31432075617_d10ee18dbf_k.jpg\n",
            "Completed Image ====> 80.42385441_303.jpg\n",
            "Completed Image ====> 81.mcmgo_abr_16011910527df.jpg\n",
            "Completed Image ====> 82.presidente-argentina-mauricio-macri-1483637489291.jpg\n",
            "Completed Image ====> 83.20190320134731_4086831_1_body.jpg\n",
            "Completed Image ====> 84.macri.jpg\n",
            "Completed Image ====> 85.El-presidente-Macri-hoy-en-el-Congreso-Nacional-2-e1519934186212.jpg\n",
            "Completed Image ====> 86.Mauricio-Macri-1024x669.jpg\n",
            "Completed Image ====> 87.falleci%C3%B3-franco-macri-padre-el-presidente-mauricio-macri-a-los-88-a%C3%B1os-1.jpg\n",
            "Completed Image ====> 88.macri-cipecc2.jpg\n",
            "Completed Image ====> 89.476292_landscape.jpg\n",
            "Completed Image ====> 90.0035873504.jpg\n",
            "Completed Image ====> 91.image5c7bc8d605a7d.jpg\n",
            "Completed Image ====> 92.181218125438-macri-mercosur-presidencia-full-169.jpg\n",
            "\n",
            "\n",
            "Unfortunately all 100 could not be downloaded because some images were not downloadable. 92 is all we got for this search filter!\n",
            "\n",
            "Errors: 8\n",
            "\n"
          ],
          "name": "stdout"
        }
      ]
    },
    {
      "cell_type": "markdown",
      "metadata": {
        "id": "-5MVDaGZyrdE",
        "colab_type": "text"
      },
      "source": [
        "### Find similar images and remove duplicates (Optional)\n",
        "----\n",
        "Source: https://docs.fast.ai/widgets.image_cleaner.html\n",
        "\n",
        "Google Colab does not accept external widgets to run on these notebooks, that's why `ImageCleaner` won't work. You can still find similar images (`ds` and `idxs`) but you will need to remove the duplicates manually. I won't do that here because I don't care much about accuracy, so it's commented."
      ]
    },
    {
      "cell_type": "code",
      "metadata": {
        "id": "FF-qxu1_hfaG",
        "colab_type": "code",
        "colab": {}
      },
      "source": [
        "# # Build a databunch from the images you downloaded\n",
        "# src = (ImageList.from_folder(Path('/content/downloads'))\n",
        "#        .split_by_rand_pct()\n",
        "#        .label_from_folder()\n",
        "#        .transform(get_transforms(), size=224))\n",
        "\n",
        "# db  = src.databunch(bs=16, num_workers=0)\n",
        "\n",
        "# learn = cnn_learner(db, models.resnet34, metrics=[accuracy])\n",
        "# learn.fit_one_cycle(3)\n",
        "\n",
        "# ds, idxs = DatasetFormatter().from_similars(learn, layer_ls=[0,7,1], pool=None) # read the fastai docs to understand why these numbers\n",
        "\n",
        "# # ds[idxs[0]][0] # show image"
      ],
      "execution_count": 0,
      "outputs": []
    },
    {
      "cell_type": "markdown",
      "metadata": {
        "id": "NEyD4Z-DiqWn",
        "colab_type": "text"
      },
      "source": [
        "### Download images from the Open Image Dataset for Class \"B\"\n",
        "---\n",
        "Source: \n",
        "- https://storage.googleapis.com/openimages/web/index.html\n",
        "- https://github.com/EscVM/OIDv4_ToolKit"
      ]
    },
    {
      "cell_type": "code",
      "metadata": {
        "id": "bBEFXB16hfVB",
        "colab_type": "code",
        "outputId": "f98d2c97-2a4d-4134-c0ac-96e038f4a083",
        "colab": {
          "base_uri": "https://localhost:8080/",
          "height": 102
        }
      },
      "source": [
        "%%shell\n",
        "git clone https://github.com/EscVM/OIDv4_ToolKit.git"
      ],
      "execution_count": 0,
      "outputs": [
        {
          "output_type": "stream",
          "text": [
            "Cloning into 'OIDv4_ToolKit'...\n",
            "remote: Enumerating objects: 399, done.\u001b[K\n",
            "remote: Total 399 (delta 0), reused 0 (delta 0), pack-reused 399\u001b[K\n",
            "Receiving objects: 100% (399/399), 34.05 MiB | 20.42 MiB/s, done.\n",
            "Resolving deltas: 100% (129/129), done.\n"
          ],
          "name": "stdout"
        },
        {
          "output_type": "execute_result",
          "data": {
            "text/plain": [
              ""
            ]
          },
          "metadata": {
            "tags": []
          },
          "execution_count": 5
        }
      ]
    },
    {
      "cell_type": "code",
      "metadata": {
        "id": "5UpLU2WXhfSf",
        "colab_type": "code",
        "outputId": "20317ad4-4d2f-4eff-baaf-37bd653c1651",
        "colab": {
          "base_uri": "https://localhost:8080/",
          "height": 581
        }
      },
      "source": [
        "%%shell\n",
        "cd OIDv4_ToolKit\n",
        "pip install -r requirements.txt"
      ],
      "execution_count": 0,
      "outputs": [
        {
          "output_type": "stream",
          "text": [
            "Requirement already satisfied: pandas in /usr/local/lib/python3.6/dist-packages (from -r requirements.txt (line 1)) (0.24.2)\n",
            "Requirement already satisfied: numpy in /usr/local/lib/python3.6/dist-packages (from -r requirements.txt (line 2)) (1.16.4)\n",
            "Collecting awscli (from -r requirements.txt (line 3))\n",
            "\u001b[?25l  Downloading https://files.pythonhosted.org/packages/0e/ea/fc291548a0cce11c1a2693d3aa88334c9435e0ecacea3800cafcdb2d651f/awscli-1.16.171-py2.py3-none-any.whl (1.6MB)\n",
            "\u001b[K     |████████████████████████████████| 1.6MB 9.7MB/s \n",
            "\u001b[?25hRequirement already satisfied: urllib3 in /usr/local/lib/python3.6/dist-packages (from -r requirements.txt (line 5)) (1.24.3)\n",
            "Requirement already satisfied: tqdm in /usr/local/lib/python3.6/dist-packages (from -r requirements.txt (line 7)) (4.28.1)\n",
            "Requirement already satisfied: opencv-python in /usr/local/lib/python3.6/dist-packages (from -r requirements.txt (line 9)) (3.4.5.20)\n",
            "Requirement already satisfied: pytz>=2011k in /usr/local/lib/python3.6/dist-packages (from pandas->-r requirements.txt (line 1)) (2018.9)\n",
            "Requirement already satisfied: python-dateutil>=2.5.0 in /usr/local/lib/python3.6/dist-packages (from pandas->-r requirements.txt (line 1)) (2.5.3)\n",
            "Collecting botocore==1.12.161 (from awscli->-r requirements.txt (line 3))\n",
            "\u001b[?25l  Downloading https://files.pythonhosted.org/packages/8f/9e/0551ad1cc091d5e0d33d34a8ac77360f69c5696a4639693167dff3cdac0b/botocore-1.12.161-py2.py3-none-any.whl (5.5MB)\n",
            "\u001b[K     |████████████████████████████████| 5.5MB 57.2MB/s \n",
            "\u001b[?25hCollecting rsa<=3.5.0,>=3.1.2 (from awscli->-r requirements.txt (line 3))\n",
            "\u001b[?25l  Downloading https://files.pythonhosted.org/packages/e1/ae/baedc9cb175552e95f3395c43055a6a5e125ae4d48a1d7a924baca83e92e/rsa-3.4.2-py2.py3-none-any.whl (46kB)\n",
            "\u001b[K     |████████████████████████████████| 51kB 28.2MB/s \n",
            "\u001b[?25hRequirement already satisfied: docutils>=0.10 in /usr/local/lib/python3.6/dist-packages (from awscli->-r requirements.txt (line 3)) (0.14)\n",
            "Requirement already satisfied: s3transfer<0.3.0,>=0.2.0 in /usr/local/lib/python3.6/dist-packages (from awscli->-r requirements.txt (line 3)) (0.2.0)\n",
            "Collecting colorama<=0.3.9,>=0.2.5 (from awscli->-r requirements.txt (line 3))\n",
            "  Downloading https://files.pythonhosted.org/packages/db/c8/7dcf9dbcb22429512708fe3a547f8b6101c0d02137acbd892505aee57adf/colorama-0.3.9-py2.py3-none-any.whl\n",
            "Requirement already satisfied: PyYAML<=3.13,>=3.10 in /usr/local/lib/python3.6/dist-packages (from awscli->-r requirements.txt (line 3)) (3.13)\n",
            "Requirement already satisfied: six>=1.5 in /usr/local/lib/python3.6/dist-packages (from python-dateutil>=2.5.0->pandas->-r requirements.txt (line 1)) (1.12.0)\n",
            "Requirement already satisfied: jmespath<1.0.0,>=0.7.1 in /usr/local/lib/python3.6/dist-packages (from botocore==1.12.161->awscli->-r requirements.txt (line 3)) (0.9.4)\n",
            "Requirement already satisfied: pyasn1>=0.1.3 in /usr/local/lib/python3.6/dist-packages (from rsa<=3.5.0,>=3.1.2->awscli->-r requirements.txt (line 3)) (0.4.5)\n",
            "Installing collected packages: botocore, rsa, colorama, awscli\n",
            "  Found existing installation: botocore 1.12.157\n",
            "    Uninstalling botocore-1.12.157:\n",
            "      Successfully uninstalled botocore-1.12.157\n",
            "  Found existing installation: rsa 4.0\n",
            "    Uninstalling rsa-4.0:\n",
            "      Successfully uninstalled rsa-4.0\n",
            "Successfully installed awscli-1.16.171 botocore-1.12.161 colorama-0.3.9 rsa-3.4.2\n"
          ],
          "name": "stdout"
        },
        {
          "output_type": "execute_result",
          "data": {
            "text/plain": [
              ""
            ]
          },
          "metadata": {
            "tags": []
          },
          "execution_count": 6
        }
      ]
    },
    {
      "cell_type": "code",
      "metadata": {
        "id": "SkYGa7vRhfP5",
        "colab_type": "code",
        "outputId": "de7d9c64-485a-40b6-a3a5-b2dbb0cea4df",
        "colab": {
          "base_uri": "https://localhost:8080/",
          "height": 632
        }
      },
      "source": [
        "%%shell\n",
        "cd OIDv4_ToolKit\n",
        "python main.py downloader_ill --sub m --classes Person --type_csv validation --limit 300"
      ],
      "execution_count": 0,
      "outputs": [
        {
          "output_type": "stream",
          "text": [
            "\u001b[92m\n",
            "\t\t   ___   _____  ______            _    _    \n",
            "\t\t .'   `.|_   _||_   _ `.         | |  | |   \n",
            "\t\t/  .-.  \\ | |    | | `. \\ _   __ | |__| |_  \n",
            "\t\t| |   | | | |    | |  | |[ \\ [  ]|____   _| \n",
            "\t\t\\  `-'  /_| |_  _| |_.' / \\ \\/ /     _| |_  \n",
            "\t\t `.___.'|_____||______.'   \\__/     |_____|\n",
            "\t\u001b[0m\n",
            "\u001b[92m\n",
            "\n",
            "     _____                      _                 _             _____ _      _      \n",
            "    |  __ \\                    | |               | |           |_   _| |    | |     \n",
            "    | |  | | _____      ___ __ | | ___   __ _  __| | ___ _ __    | | | |    | |     \n",
            "    | |  | |/ _ \\ \\ /\\ / / '_ \\| |/ _ \\ / _` |/ _` |/ _ \\ '__|   | | | |    | |     \n",
            "    | |__| | (_) \\ V  V /| | | | | (_) | (_| | (_| |  __/ |     _| |_| |____| |____ \n",
            "    |_____/ \\___/ \\_/\\_/ |_| |_|_|\\___/ \\__,_|\\__,_|\\___|_|    |_____|______|______|\n",
            "                                            \n",
            "            \n",
            "        \u001b[0m\n",
            "\u001b[91m   [ERROR] | Missing the class-descriptions.csv file.\u001b[0m\n",
            "\u001b[94m[DOWNLOAD] | Do you want to download the missing file? [Y/n] \u001b[0mY\n",
            "...101%, 0 MB, 84980 KB/s, 0 seconds passed\n",
            "\u001b[94m[DOWNLOAD] | File class-descriptions.csv downloaded into OID/csv_folder_nl/class-descriptions.csv.\u001b[0m\n",
            "\u001b[91m   [ERROR] | Missing the validation-annotations-machine-imagelabels.csv file.\u001b[0m\n",
            "\u001b[94m[DOWNLOAD] | Do you want to download the missing file? [Y/n] \u001b[0mY\n",
            "...100%, 18 MB, 45012 KB/s, 0 seconds passed\n",
            "\u001b[94m[DOWNLOAD] | File validation-annotations-machine-imagelabels.csv downloaded into OID/csv_folder_nl/validation-annotations-machine-imagelabels.csv.\u001b[0m\n",
            "\n",
            "\u001b[95mPerson\u001b[0m\n",
            "    [INFO] | Downloading validation images.\u001b[0m\n",
            "    [INFO] | [INFO] Found 1679 online images for validation.\u001b[0m\n",
            "    [INFO] | Limiting to 300 images.\u001b[0m\n",
            "    [INFO] | Download of 300 images in validation.\u001b[0m\n",
            "100% 300/300 [02:14<00:00,  2.23it/s]\n",
            "    [INFO] | Done!\u001b[0m\n"
          ],
          "name": "stdout"
        },
        {
          "output_type": "execute_result",
          "data": {
            "text/plain": [
              ""
            ]
          },
          "metadata": {
            "tags": []
          },
          "execution_count": 7
        }
      ]
    },
    {
      "cell_type": "markdown",
      "metadata": {
        "id": "4bkLLXtgUc7r",
        "colab_type": "text"
      },
      "source": [
        "### Combine images into single folder"
      ]
    },
    {
      "cell_type": "code",
      "metadata": {
        "id": "AKVzzLweUjin",
        "colab_type": "code",
        "outputId": "f5af0161-8ada-4568-b5a1-3db28a2c13fe",
        "colab": {
          "base_uri": "https://localhost:8080/",
          "height": 51
        }
      },
      "source": [
        "path = Path('/content/data')\n",
        "path.mkdir(exist_ok=True, parents=True)\n",
        "\n",
        "# move images for class \"A\" from google_images_download\n",
        "(path/'macri').mkdir(exist_ok=True, parents=True)\n",
        "images = [x for k,v in paths[0].items() for x in v if len(x)>0]\n",
        "for image in images:\n",
        "  file = Path(image)\n",
        "  shutil.copy(image, \n",
        "              path/'macri'/file.name)\n",
        "print(f'{len(images)} images were copied for class A')\n",
        "\n",
        "# move images for class \"B\" from OID\n",
        "(path/'not_macri').mkdir(exist_ok=True, parents=True)\n",
        "images = [x for x in Path('/content/OIDv4_ToolKit/OID/Dataset_nl/validation/Person').glob('*.jpg')]\n",
        "for image in images:\n",
        "  shutil.copy(image, \n",
        "              path/'not_macri'/image.name)\n",
        "print(f'{len(images)} images were copied for class B')"
      ],
      "execution_count": 0,
      "outputs": [
        {
          "output_type": "stream",
          "text": [
            "259 images were copied for class A\n",
            "300 images were copied for class B\n"
          ],
          "name": "stdout"
        }
      ]
    },
    {
      "cell_type": "markdown",
      "metadata": {
        "id": "WFPXq328VY5w",
        "colab_type": "text"
      },
      "source": [
        "## Train your model"
      ]
    },
    {
      "cell_type": "code",
      "metadata": {
        "id": "wL6RIXHHuKY1",
        "colab_type": "code",
        "outputId": "f3fd373b-033f-4e7d-fca5-46a37bfdbc2e",
        "colab": {
          "base_uri": "https://localhost:8080/",
          "height": 170
        }
      },
      "source": [
        "%%shell\n",
        "pip install pretrainedmodels"
      ],
      "execution_count": 0,
      "outputs": [
        {
          "output_type": "stream",
          "text": [
            "Requirement already satisfied: pretrainedmodels in /usr/local/lib/python3.6/dist-packages (0.7.4)\n",
            "Requirement already satisfied: torchvision in /usr/local/lib/python3.6/dist-packages (from pretrainedmodels) (0.3.0)\n",
            "Requirement already satisfied: munch in /usr/local/lib/python3.6/dist-packages (from pretrainedmodels) (2.3.2)\n",
            "Requirement already satisfied: tqdm in /usr/local/lib/python3.6/dist-packages (from pretrainedmodels) (4.28.1)\n",
            "Requirement already satisfied: torch in /usr/local/lib/python3.6/dist-packages (from pretrainedmodels) (1.1.0)\n",
            "Requirement already satisfied: pillow>=4.1.1 in /usr/local/lib/python3.6/dist-packages (from torchvision->pretrainedmodels) (4.3.0)\n",
            "Requirement already satisfied: numpy in /usr/local/lib/python3.6/dist-packages (from torchvision->pretrainedmodels) (1.16.4)\n",
            "Requirement already satisfied: six in /usr/local/lib/python3.6/dist-packages (from torchvision->pretrainedmodels) (1.12.0)\n",
            "Requirement already satisfied: olefile in /usr/local/lib/python3.6/dist-packages (from pillow>=4.1.1->torchvision->pretrainedmodels) (0.46)\n"
          ],
          "name": "stdout"
        },
        {
          "output_type": "execute_result",
          "data": {
            "text/plain": [
              ""
            ]
          },
          "metadata": {
            "tags": []
          },
          "execution_count": 9
        }
      ]
    },
    {
      "cell_type": "markdown",
      "metadata": {
        "id": "1BTdRYVpvIcF",
        "colab_type": "text"
      },
      "source": [
        "### Helper functions"
      ]
    },
    {
      "cell_type": "code",
      "metadata": {
        "id": "7aFukgtMu1rY",
        "colab_type": "code",
        "colab": {}
      },
      "source": [
        "def arch_summary(arch):\n",
        "  model = arch(False)\n",
        "  tot = 0\n",
        "  for i, l in enumerate(model.children()):\n",
        "      n_layers = len(flatten_model(l))\n",
        "      tot += n_layers\n",
        "      print(f\"({i}) {l.__class__.__name__:<12}: {n_layers:<4}layers (total: {tot})\")\n",
        "\n",
        "\n",
        "def get_groups(model, layer_groups):\n",
        "  group_indices = [len(g) for g in layer_groups]\n",
        "  curr_i = 0\n",
        "  group = []\n",
        "  for layer in model:\n",
        "      group_indices[curr_i] -= len(flatten_model(layer))\n",
        "      group.append(layer.__class__.__name__)\n",
        "      if group_indices[curr_i] == 0:\n",
        "          curr_i += 1\n",
        "          print(f'Group {curr_i}:', group)\n",
        "          group = []\n",
        "\n",
        "def se_resnext50_32x4d(pretrained=False):\n",
        "  pretrained = \"imagenet\" if pretrained else None\n",
        "  model = pretrainedmodels.se_resnext50_32x4d(pretrained=pretrained)\n",
        "  return model\n",
        "  \n",
        "def get_data(path, size=224, bs=16, workers=None):\n",
        "  tfms = get_transforms()\n",
        "  n_gpus = num_distrib() or 1\n",
        "  if workers is None: workers = min(8, num_cpus()//n_gpus)\n",
        "\n",
        "  return (ImageList.from_folder(path).split_by_rand_pct()\n",
        "          .label_from_folder().transform(tfms, size=size)\n",
        "          .databunch(bs=bs, num_workers=workers)\n",
        "          .presize(size, scale=(0.35,1))\n",
        "          .normalize(imagenet_stats))"
      ],
      "execution_count": 0,
      "outputs": []
    },
    {
      "cell_type": "markdown",
      "metadata": {
        "id": "FuDIsxhowDv4",
        "colab_type": "text"
      },
      "source": [
        "### Start training"
      ]
    },
    {
      "cell_type": "code",
      "metadata": {
        "id": "oO4gj7HdxqhA",
        "colab_type": "code",
        "outputId": "f337f602-361e-420f-fb22-e36b61ca9f67",
        "colab": {
          "base_uri": "https://localhost:8080/",
          "height": 1319
        }
      },
      "source": [
        "import pretrainedmodels\n",
        "\n",
        "output = Path('/content/output')\n",
        "output.mkdir(exist_ok=True, parents=True)\n",
        "epochs=20\n",
        "lr=1e-2\n",
        "\n",
        "# create databunch\n",
        "data = get_data(path)\n",
        "\n",
        "# create cnn learner\n",
        "arch = se_resnext50_32x4d\n",
        "learn = cnn_learner(data, arch, metrics=[accuracy], \n",
        "                    callback_fns=[ShowGraph,])\n",
        "\n",
        "# set callbacks\n",
        "early_stopping = EarlyStoppingCallback(\n",
        "    learn, monitor='accuracy', min_delta=1e-3, patience=5)\n",
        "reduce_LR = ReduceLROnPlateauCallback(\n",
        "    learn, monitor='accuracy', min_delta=1e-3, patience=4)\n",
        "save_model = SaveModelCallback(\n",
        "    learn,\n",
        "    every=\"improvement\",\n",
        "    monitor='accuracy',\n",
        "    name=output/'model_best')\n",
        "\n",
        "# print cnn info\n",
        "arch_summary(arch)\n",
        "get_groups(nn.Sequential(*learn.model[0], *learn.model[1]), learn.layer_groups)\n",
        "\n",
        "# train model\n",
        "learn.fit_one_cycle(20, lr, div_factor=10, pct_start=0.3, callbacks=[early_stopping, reduce_LR, save_model])"
      ],
      "execution_count": 0,
      "outputs": [
        {
          "output_type": "stream",
          "text": [
            "(0) Sequential  : 4   layers (total: 4)\n",
            "(1) Sequential  : 38  layers (total: 42)\n",
            "(2) Sequential  : 50  layers (total: 92)\n",
            "(3) Sequential  : 74  layers (total: 166)\n",
            "(4) Sequential  : 38  layers (total: 204)\n",
            "(5) AvgPool2d   : 1   layers (total: 205)\n",
            "(6) Linear      : 1   layers (total: 206)\n",
            "Group 1: ['Sequential', 'Sequential', 'Sequential', 'Sequential', 'Sequential']\n",
            "Group 2: ['AdaptiveConcatPool2d', 'Flatten', 'BatchNorm1d', 'Dropout', 'Linear', 'ReLU', 'BatchNorm1d', 'Dropout', 'Linear']\n"
          ],
          "name": "stdout"
        },
        {
          "output_type": "display_data",
          "data": {
            "text/html": [
              "\n",
              "    <div>\n",
              "        <style>\n",
              "            /* Turns off some styling */\n",
              "            progress {\n",
              "                /* gets rid of default border in Firefox and Opera. */\n",
              "                border: none;\n",
              "                /* Needs to be in here for Safari polyfill so background images work as expected. */\n",
              "                background-size: auto;\n",
              "            }\n",
              "            .progress-bar-interrupted, .progress-bar-interrupted::-webkit-progress-bar {\n",
              "                background: #F44336;\n",
              "            }\n",
              "        </style>\n",
              "      <progress value='15' class='' max='20', style='width:300px; height:20px; vertical-align: middle;'></progress>\n",
              "      75.00% [15/20 03:22<01:07]\n",
              "    </div>\n",
              "    \n",
              "<table border=\"1\" class=\"dataframe\">\n",
              "  <thead>\n",
              "    <tr style=\"text-align: left;\">\n",
              "      <th>epoch</th>\n",
              "      <th>train_loss</th>\n",
              "      <th>valid_loss</th>\n",
              "      <th>accuracy</th>\n",
              "      <th>time</th>\n",
              "    </tr>\n",
              "  </thead>\n",
              "  <tbody>\n",
              "    <tr>\n",
              "      <td>0</td>\n",
              "      <td>0.470243</td>\n",
              "      <td>0.269027</td>\n",
              "      <td>0.909091</td>\n",
              "      <td>00:13</td>\n",
              "    </tr>\n",
              "    <tr>\n",
              "      <td>1</td>\n",
              "      <td>0.347056</td>\n",
              "      <td>0.142055</td>\n",
              "      <td>0.954545</td>\n",
              "      <td>00:13</td>\n",
              "    </tr>\n",
              "    <tr>\n",
              "      <td>2</td>\n",
              "      <td>0.256294</td>\n",
              "      <td>0.173762</td>\n",
              "      <td>0.927273</td>\n",
              "      <td>00:13</td>\n",
              "    </tr>\n",
              "    <tr>\n",
              "      <td>3</td>\n",
              "      <td>0.258621</td>\n",
              "      <td>0.199829</td>\n",
              "      <td>0.927273</td>\n",
              "      <td>00:13</td>\n",
              "    </tr>\n",
              "    <tr>\n",
              "      <td>4</td>\n",
              "      <td>0.251065</td>\n",
              "      <td>0.156670</td>\n",
              "      <td>0.936364</td>\n",
              "      <td>00:13</td>\n",
              "    </tr>\n",
              "    <tr>\n",
              "      <td>5</td>\n",
              "      <td>0.218240</td>\n",
              "      <td>0.100791</td>\n",
              "      <td>0.963636</td>\n",
              "      <td>00:13</td>\n",
              "    </tr>\n",
              "    <tr>\n",
              "      <td>6</td>\n",
              "      <td>0.172852</td>\n",
              "      <td>0.229767</td>\n",
              "      <td>0.945455</td>\n",
              "      <td>00:13</td>\n",
              "    </tr>\n",
              "    <tr>\n",
              "      <td>7</td>\n",
              "      <td>0.160615</td>\n",
              "      <td>0.162914</td>\n",
              "      <td>0.954545</td>\n",
              "      <td>00:13</td>\n",
              "    </tr>\n",
              "    <tr>\n",
              "      <td>8</td>\n",
              "      <td>0.188099</td>\n",
              "      <td>0.186231</td>\n",
              "      <td>0.918182</td>\n",
              "      <td>00:13</td>\n",
              "    </tr>\n",
              "    <tr>\n",
              "      <td>9</td>\n",
              "      <td>0.193744</td>\n",
              "      <td>0.077685</td>\n",
              "      <td>0.972727</td>\n",
              "      <td>00:13</td>\n",
              "    </tr>\n",
              "    <tr>\n",
              "      <td>10</td>\n",
              "      <td>0.181661</td>\n",
              "      <td>0.135746</td>\n",
              "      <td>0.945455</td>\n",
              "      <td>00:13</td>\n",
              "    </tr>\n",
              "    <tr>\n",
              "      <td>11</td>\n",
              "      <td>0.150869</td>\n",
              "      <td>0.125568</td>\n",
              "      <td>0.963636</td>\n",
              "      <td>00:13</td>\n",
              "    </tr>\n",
              "    <tr>\n",
              "      <td>12</td>\n",
              "      <td>0.118844</td>\n",
              "      <td>0.141380</td>\n",
              "      <td>0.963636</td>\n",
              "      <td>00:13</td>\n",
              "    </tr>\n",
              "    <tr>\n",
              "      <td>13</td>\n",
              "      <td>0.083061</td>\n",
              "      <td>0.130947</td>\n",
              "      <td>0.972727</td>\n",
              "      <td>00:13</td>\n",
              "    </tr>\n",
              "    <tr>\n",
              "      <td>14</td>\n",
              "      <td>0.064785</td>\n",
              "      <td>0.123297</td>\n",
              "      <td>0.972727</td>\n",
              "      <td>00:13</td>\n",
              "    </tr>\n",
              "  </tbody>\n",
              "</table><p>\n",
              "\n",
              "    <div>\n",
              "        <style>\n",
              "            /* Turns off some styling */\n",
              "            progress {\n",
              "                /* gets rid of default border in Firefox and Opera. */\n",
              "                border: none;\n",
              "                /* Needs to be in here for Safari polyfill so background images work as expected. */\n",
              "                background-size: auto;\n",
              "            }\n",
              "            .progress-bar-interrupted, .progress-bar-interrupted::-webkit-progress-bar {\n",
              "                background: #F44336;\n",
              "            }\n",
              "        </style>\n",
              "      <progress value='7' class='' max='7', style='width:300px; height:20px; vertical-align: middle;'></progress>\n",
              "      100.00% [7/7 00:02<00:00]\n",
              "    </div>\n",
              "    "
            ],
            "text/plain": [
              "<IPython.core.display.HTML object>"
            ]
          },
          "metadata": {
            "tags": []
          }
        },
        {
          "output_type": "display_data",
          "data": {
            "image/png": "[encoded data removed]",
            "text/plain": [
              "<Figure size 432x288 with 1 Axes>"
            ]
          },
          "metadata": {
            "tags": []
          }
        },
        {
          "output_type": "stream",
          "text": [
            "Better model found at epoch 0 with accuracy value: 0.9090909361839294.\n",
            "Better model found at epoch 1 with accuracy value: 0.9545454382896423.\n",
            "Better model found at epoch 5 with accuracy value: 0.9636363387107849.\n",
            "Better model found at epoch 9 with accuracy value: 0.9727272987365723.\n",
            "Epoch 14: reducing lr to 0.0005661305997198331\n",
            "Epoch 15: early stopping\n"
          ],
          "name": "stdout"
        },
        {
          "output_type": "display_data",
          "data": {
            "image/png": "[encoded data removed]",
            "text/plain": [
              "<Figure size 432x288 with 1 Axes>"
            ]
          },
          "metadata": {
            "tags": []
          }
        }
      ]
    },
    {
      "cell_type": "markdown",
      "metadata": {
        "id": "G2TMrePfvwDQ",
        "colab_type": "text"
      },
      "source": [
        "### Export as model.tar.gz"
      ]
    },
    {
      "cell_type": "code",
      "metadata": {
        "id": "PvskHqYDu1oM",
        "colab_type": "code",
        "outputId": "be5f7814-8b6a-44f8-c0a5-5ea636e69565",
        "colab": {
          "base_uri": "https://localhost:8080/",
          "height": 34
        }
      },
      "source": [
        "# export model to pkl\n",
        "learn = learn.load(output/'model_best')\n",
        "learn.export(output/'model.pkl')\n",
        "\n",
        "# convert to torch.jit and export to .tar.gz\n",
        "save_texts(output/'classes.txt', data.classes)\n",
        "trace_input = torch.ones(1, 3, 224, 224).cuda()\n",
        "jit_model = torch.jit.trace(learn.model.float(), trace_input)\n",
        "model_file = 'model_jit.pth'\n",
        "torch.jit.save(jit_model, str(output/model_file))\n",
        "tar_file = 'model.tar.gz'\n",
        "\n",
        "with tarfile.open(output/tar_file, \"w:gz\") as f:\n",
        "    f.add(output/model_file, arcname=model_file)\n",
        "    f.add(output/'classes.txt', arcname='classes.txt')\n",
        "\n",
        "print(f'{tar_file} was saved succesfully.')"
      ],
      "execution_count": 0,
      "outputs": [
        {
          "output_type": "stream",
          "text": [
            "model.tar.gz was saved succesfully.\n"
          ],
          "name": "stdout"
        }
      ]
    }
  ]
}