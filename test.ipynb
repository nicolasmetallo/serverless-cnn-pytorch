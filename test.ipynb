{
 "cells": [
  {
   "cell_type": "markdown",
   "metadata": {},
   "source": [
    "# Run queries vs AWS Lambda functions\n",
    "---"
   ]
  },
  {
   "cell_type": "code",
   "execution_count": null,
   "metadata": {},
   "outputs": [],
   "source": [
    "from PIL import Image\n",
    "import io\n",
    "import requests\n",
    "import base64\n",
    "import time\n",
    "import json\n",
    "import numpy as np\n",
    "\n",
    "import multiprocessing as mp"
   ]
  },
  {
   "cell_type": "code",
   "execution_count": null,
   "metadata": {},
   "outputs": [],
   "source": [
    "with open('test-dog.jpg', 'rb') as f:\n",
    "    b64_im = base64.b64encode(f.read())"
   ]
  },
  {
   "cell_type": "code",
   "execution_count": null,
   "metadata": {},
   "outputs": [],
   "source": [
    "img = Image.open(io.BytesIO(base64.b64decode(b64_im)))"
   ]
  },
  {
   "cell_type": "code",
   "execution_count": null,
   "metadata": {},
   "outputs": [],
   "source": [
    "# %%timeit\n",
    "\n",
    "now=time.time()\n",
    "url = 'https://53f8w4fcua.execute-api.us-east-1.amazonaws.com/Prod/invocations'\n",
    "payload = {'data': b64_im.decode('utf-8')}\n",
    "    \n",
    "headers = {'content-type': 'application/json'}\n",
    "\n",
    "r = requests.post(url, json=payload, headers=headers)\n",
    "print('proc time: {} seconds and response is: {}'.format(time.time()-now, r))"
   ]
  },
  {
   "cell_type": "code",
   "execution_count": null,
   "metadata": {},
   "outputs": [],
   "source": [
    "response = r.json()\n",
    "print(response)"
   ]
  },
  {
   "cell_type": "code",
   "execution_count": null,
   "metadata": {},
   "outputs": [],
   "source": [
    "bb = json.loads(response['json'])['boxes'][0]\n",
    "area = (bb[0], bb[1], bb[2], bb[3])\n",
    "cropped_img = img.crop(area)\n",
    "cropped_img"
   ]
  },
  {
   "cell_type": "code",
   "execution_count": null,
   "metadata": {},
   "outputs": [],
   "source": [
    "area = (response['xmin'], \n",
    "        response['ymin'], \n",
    "        response['xmax'], \n",
    "        response['ymax'])\n",
    "cropped_img = img.crop(area)\n",
    "cropped_img"
   ]
  },
  {
   "cell_type": "markdown",
   "metadata": {},
   "source": [
    "## Parallel requests"
   ]
  },
  {
   "cell_type": "code",
   "execution_count": null,
   "metadata": {},
   "outputs": [],
   "source": [
    "list_of_images = [b64_im for x in range(1000)]"
   ]
  },
  {
   "cell_type": "code",
   "execution_count": null,
   "metadata": {},
   "outputs": [],
   "source": [
    "def query_image(image):\n",
    "    payload = {'data': image.decode('utf-8')}\n",
    "    headers = {'content-type': 'application/json'}\n",
    "\n",
    "    return requests.post(url, json=payload, headers=headers)"
   ]
  },
  {
   "cell_type": "code",
   "execution_count": null,
   "metadata": {},
   "outputs": [],
   "source": [
    "now = time.time()\n",
    "pool = mp.Pool(mp.cpu_count())\n",
    "results = pool.starmap(query_image, [(image,) for image in list_of_images])\n",
    "pool.close()\n",
    "print('total proc time: {} milliseconds'.format(time.time()-now, r))"
   ]
  }
 ],
 "metadata": {
  "kernelspec": {
   "display_name": "Python 3",
   "language": "python",
   "name": "python3"
  },
  "language_info": {
   "codemirror_mode": {
    "name": "ipython",
    "version": 3
   },
   "file_extension": ".py",
   "mimetype": "text/x-python",
   "name": "python",
   "nbconvert_exporter": "python",
   "pygments_lexer": "ipython3",
   "version": "3.7.0"
  }
 },
 "nbformat": 4,
 "nbformat_minor": 2
}